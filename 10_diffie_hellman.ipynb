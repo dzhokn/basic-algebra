{
 "cells": [
  {
   "cell_type": "markdown",
   "metadata": {},
   "source": [
    "### Diffie - Hellman Key Exchange Simulation\n",
    "As we already saw, there are functions which are very easy to compute in the \"forward\" direction but really difficult (computationally) to invert (that is, determine the input from the output). There is a special case: the function may have a hidden \"trap door\". If you know where that door is, you can invert the function easily. This statement is at the core of modern cryptography.\n",
    "\n",
    "Look up **Diffie - Hellman key exchange** (here's a [video](https://www.youtube.com/watch?v=cM4mNVUBtHk) on that but feel free to use anything else you might find useful).\n",
    "\n",
    "Simulate the algorithm you just saw. Generate large enough numbers so the difference is noticeable (say, factoring takes 10-15 seconds). Simulate both participants in the key exchange. Simulate an eavesdropper.\n",
    "\n",
    "First, make sure after both participants run the algorithm, they have *the same key* (they generate the same number).\n",
    "\n",
    "Second, see how long it takes for them to exchange keys.\n",
    "\n",
    "Third, see how long it takes the eavesdropper to arrive at the correct shared secret.\n",
    "\n",
    "You should be able to see **the power of cryptography**. In this case, it's not that the function is irreversible. It can be reversed, but it takes a really long time (and with more bits, we're talking billions of years). However, if you know something else (this is called a **trap door**), the function becomes relatively easy to invert."
   ]
  },
  {
   "cell_type": "code",
   "execution_count": 1,
   "metadata": {},
   "outputs": [],
   "source": [
    "import time\n",
    "import matplotlib.pyplot as plt\n",
    "import random\n",
    "\n",
    "from collections.abc import Callable"
   ]
  },
  {
   "cell_type": "code",
   "execution_count": 2,
   "metadata": {},
   "outputs": [
    {
     "name": "stdout",
     "output_type": "stream",
     "text": [
      "GENERATION TIME: \t0.01 ms\n",
      "Generated private keys are 32, 96. Exchange outputs are 23201871, 38718244. Public key is 11973219\n",
      "Brute-forced! Private keys are 32, 96\n",
      "BREAKING TIME: \t\t0.03 ms\n",
      "\n",
      "GENERATION TIME: \t0.01 ms\n",
      "Generated private keys are 108, 117. Exchange outputs are 114236378, 33531515. Public key is 110922833\n",
      "Brute-forced! Private keys are 108, 117\n",
      "BREAKING TIME: \t\t0.04 ms\n",
      "\n",
      "GENERATION TIME: \t0.72 ms\n",
      "Generated private keys are 1180, 4544. Exchange outputs are 36822050, 112329808. Public key is 125449145\n",
      "Brute-forced! Private keys are 1180, 4544\n",
      "BREAKING TIME: \t\t14.6 ms\n",
      "\n",
      "GENERATION TIME: \t94.85 ms\n",
      "Generated private keys are 71305, 55410. Exchange outputs are 122495608, 133456208. Public key is 40275292\n",
      "Brute-forced! Private keys are 71305, 55410\n",
      "BREAKING TIME: \t\t24852.69 ms\n",
      "\n"
     ]
    },
    {
     "data": {
      "image/png": "[encoded data removed]",
      "text/plain": [
       "<Figure size 640x480 with 1 Axes>"
      ]
     },
     "metadata": {},
     "output_type": "display_data"
    }
   ],
   "source": [
    "def __generate_random_number(num_of_digits: int):\n",
    "    range_start = 10**(num_of_digits-1)\n",
    "    range_end = (10**num_of_digits)-1\n",
    "    return random.randint(range_start, range_end)\n",
    "\n",
    "def __produce_exchange_function(power: int, generator: int = 3, prime_modulus: int = 136279841):\n",
    "    return (generator**power) % prime_modulus\n",
    "\n",
    "def generate_keys(key_size: int) -> tuple:\n",
    "    # Measure the time needed for producing and exchanging keys.\n",
    "    start_time = time.time()\n",
    "\n",
    "    # Generate two private keys\n",
    "    a_private_key = __generate_random_number(key_size)\n",
    "    b_private_key = __generate_random_number(key_size)\n",
    "\n",
    "    # Exchange the outputs of the exchange function for these two private keys.\n",
    "    a_output = __produce_exchange_function(a_private_key)\n",
    "    b_output = __produce_exchange_function(b_private_key)\n",
    "\n",
    "    # Generate the public key\n",
    "    a_public_key = __produce_exchange_function(a_private_key, b_output)\n",
    "    b_public_key = __produce_exchange_function(b_private_key, a_output)\n",
    "\n",
    "    # Log the time needed for keys generation and exchange.\n",
    "    generation_time = round((time.time() - start_time)*1000, 2)\n",
    "    print(f\"GENERATION TIME: \\t{generation_time} ms\")\n",
    "\n",
    "    # Make sure the two public keys are the same.\n",
    "    if a_public_key != b_public_key:\n",
    "        raise Exception(f\"Different public keys {a_public_key}, {b_public_key}!\")\n",
    "\n",
    "    return (a_private_key, b_private_key, a_output, b_output, a_public_key, generation_time)\n",
    "\n",
    "class EavesdropData:\n",
    "    def __init__(self, exchange_func: Callable, a_output: int, b_output: int, public_key: int):\n",
    "        self.exchange_func = exchange_func\n",
    "        self.a_output = a_output\n",
    "        self.b_output = b_output\n",
    "        self.public_key = public_key\n",
    "\n",
    "    def derive_private_keys(self):\n",
    "        '''Breaks the encryption private keys by simple guessing (brute force).'''\n",
    "        # Measure the time needed for producing and exchanging keys.\n",
    "        start_time = time.time()\n",
    "\n",
    "        for a_pk_candidate in range(1, 1000000):\n",
    "            if self.exchange_func(a_pk_candidate) == self.a_output:\n",
    "                if self.exchange_func(a_pk_candidate, self.b_output) == self.public_key:\n",
    "                    for b_pk_candidate in range(1, 1000000):\n",
    "                        if self.exchange_func(b_pk_candidate) == self.b_output:\n",
    "                            if self.exchange_func(b_pk_candidate, self.a_output) == self.public_key:\n",
    "                                print(f\"Brute-forced! Private keys are {a_pk_candidate}, {b_pk_candidate}\")\n",
    "                                break \n",
    "                    break\n",
    "        \n",
    "        # Log the time needed for keys generation and exchange.\n",
    "        self.break_time = round((time.time() - start_time)*1000, 2)\n",
    "        print(f\"BREAKING TIME: \\t\\t{self.break_time} ms\\n\")\n",
    "\n",
    "# Simulate the encrypted handshake between two parties.\n",
    "key_sizes = []\n",
    "generation_times = []\n",
    "break_times = []\n",
    "\n",
    "for key_size in range (2, 6):\n",
    "    keys = generate_keys(key_size)\n",
    "    print(f\"Generated private keys are {keys[0]}, {keys[1]}. Exchange outputs are {keys[2]}, {keys[3]}. Public key is {keys[4]}\")\n",
    "\n",
    "    # Simulate eavesdrop trying to break the private keys in a brute-force way.\n",
    "    eavesdrop = EavesdropData(__produce_exchange_function, keys[2], keys[3], keys[4])\n",
    "    eavesdrop.derive_private_keys()\n",
    "\n",
    "    # Keep the times for plotting purposes.\n",
    "    key_sizes.append(key_size)\n",
    "    generation_times.append(keys[5])\n",
    "    break_times.append(eavesdrop.break_time)\n",
    "\n",
    "plt.plot(key_sizes, break_times, c = 'r', label = 'Key breaking')\n",
    "plt.plot(key_sizes, generation_times, c = 'g', label = 'Key exchange')\n",
    "plt.xlabel(\"Key size\")\n",
    "plt.ylabel(\"Time in ms\")\n",
    "plt.legend()\n",
    "plt.show()"
   ]
  },
  {
   "cell_type": "markdown",
   "metadata": {},
   "source": [
    "#### Observation\n",
    "\n",
    "We observe exponential growth of the time, needed to break the private keys. Thus making it computationally impossible for large numbers (keys of 10-digits and above)."
   ]
  }
 ],
 "metadata": {
  "kernelspec": {
   "display_name": "Python 3",
   "language": "python",
   "name": "python3"
  },
  "language_info": {
   "codemirror_mode": {
    "name": "ipython",
    "version": 3
   },
   "file_extension": ".py",
   "mimetype": "text/x-python",
   "name": "python",
   "nbconvert_exporter": "python",
   "pygments_lexer": "ipython3",
   "version": "3.13.2"
  }
 },
 "nbformat": 4,
 "nbformat_minor": 2
}
