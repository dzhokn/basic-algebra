{
 "cells": [
  {
   "cell_type": "markdown",
   "metadata": {},
   "source": [
    "### Run-length Encoding\n",
    "One application of algebra and basic math can be **compression**. This is a way to save data in less space than it originally takes. The most basic form of compression is called [run-length encoding](https://en.wikipedia.org/wiki/Run-length_encoding).\n",
    "\n",
    "Write a function that encodes a given text. Write another one that decodes.\n",
    "\n",
    "We can see that RLE is not very useful in the general case. But it can be extremely useful if we have very few symbols. An example of this can be DNA and protein sequences. DNA code, for example, has only 4 characters.\n",
    "\n",
    "Test your encoding and decoding functions on a DNA sequence (you can look up some on the Internet). Measure how much your data is compressed relative to the original."
   ]
  },
  {
   "cell_type": "code",
   "execution_count": 1,
   "metadata": {},
   "outputs": [],
   "source": [
    "def encode(text: str) -> str:\n",
    "    \"\"\"\n",
    "    Returns the run-length encoded version of the text\n",
    "    (numbers after symbols, length = 1 is skipped)\n",
    "    \"\"\"\n",
    "    # Store information in these variables during each iteration.\n",
    "    output: str     = \"\"\n",
    "    prev_char: str  = ''\n",
    "    counter: int    = 0\n",
    "\n",
    "    # Iterate over each character of the input.\n",
    "    for c in text:\n",
    "        # CASE 1: Same character as the previous one. Increment the counter.\n",
    "        if c == prev_char:\n",
    "            counter += 1\n",
    "        # CASE 2: Different character. Update the `output` and reset the counter.\n",
    "        else:\n",
    "            # Add the previous character to the `output`. Append the counter too, in case it is > 1.\n",
    "            output += __encode_char_segment(prev_char, counter)\n",
    "            # New char came. Reset the counter.\n",
    "            prev_char = c\n",
    "            counter = 1\n",
    "\n",
    "    # Add the final character to the `output` as well.\n",
    "    output += __encode_char_segment(prev_char, counter)\n",
    "    return output\n",
    "\n",
    "def __encode_char_segment(char: str, counter: int) -> str:\n",
    "    return char + (str(counter) if counter > 1 else '')\n",
    "\n",
    "def decode(text: str) -> str:\n",
    "    \"\"\"\n",
    "    Decodes the text using run-length encoding\n",
    "    \"\"\"\n",
    "    # Store information in these variables during each iteration.\n",
    "    output: str    = \"\"\n",
    "    last_char: str  = ''\n",
    "    counter: str    = \"\" # The counter might be 10+. That's why we keep it as string (in case it has multiple digits).\n",
    "\n",
    "    # Iterate over each character of the input.\n",
    "    for c in text:\n",
    "        # CASE 1: Digit was found. Update the counter (it might include multiple digits/chars). \n",
    "        if c.isdigit():\n",
    "            counter += c\n",
    "        # CASE 2: New character. Update the `output` and reset the counter.\n",
    "        else:\n",
    "            # Add the previous character to the output (as many times the counter instructs)\n",
    "            output += __decode_char_segment(last_char, counter)\n",
    "            # New char came. Reset the counter.\n",
    "            last_char = c\n",
    "            counter = \"\"\n",
    "\n",
    "    # Add the final character to the `output` as well.\n",
    "    output += __decode_char_segment(last_char, counter)\n",
    "    return output\n",
    "\n",
    "def __decode_char_segment(char: str, counter: str) -> str:\n",
    "    counter = int(counter) if counter != \"\" else 1\n",
    "    return ''.join([char for _ in range(counter)])"
   ]
  },
  {
   "cell_type": "code",
   "execution_count": 2,
   "metadata": {},
   "outputs": [],
   "source": [
    "# Tests\n",
    "# Test that the functions work on their own\n",
    "assert encode(\"AABCCCDEEEE\") == \"A2BC3DE4\"\n",
    "assert decode(\"A2BC3DE4\") == \"AABCCCDEEEE\"\n",
    "\n",
    "# Test that the functions really invert each other\n",
    "assert decode(encode(\"AABCCCDEEEE\")) == \"AABCCCDEEEE\"\n",
    "assert encode(decode(\"A2BC3DE4\")) == \"A2BC3DE4\""
   ]
  }
 ],
 "metadata": {
  "kernelspec": {
   "display_name": "Python 3",
   "language": "python",
   "name": "python3"
  },
  "language_info": {
   "codemirror_mode": {
    "name": "ipython",
    "version": 3
   },
   "file_extension": ".py",
   "mimetype": "text/x-python",
   "name": "python",
   "nbconvert_exporter": "python",
   "pygments_lexer": "ipython3",
   "version": "3.13.2"
  }
 },
 "nbformat": 4,
 "nbformat_minor": 2
}
