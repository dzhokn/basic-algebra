{
 "cells": [
  {
   "cell_type": "code",
   "execution_count": 1,
   "metadata": {},
   "outputs": [],
   "source": [
    "import numpy.polynomial as npp "
   ]
  },
  {
   "cell_type": "code",
   "execution_count": 2,
   "metadata": {},
   "outputs": [
    {
     "name": "stdout",
     "output_type": "stream",
     "text": [
      "9.0 + 0.0 x + 4.0 x**2 + 2.0 x**3\n",
      "<class 'numpy.polynomial.polynomial.Polynomial'>\n"
     ]
    }
   ],
   "source": [
    "p = npp.Polynomial([9, 0, 4, 2])\n",
    "print(p)\n",
    "print(type(p))"
   ]
  },
  {
   "cell_type": "code",
   "execution_count": 3,
   "metadata": {},
   "outputs": [
    {
     "name": "stdout",
     "output_type": "stream",
     "text": [
      "9.0 + 0.0 x + 4.0 x**2 + 2.0 x**3\n",
      "1.0 + 0.0 x + 0.0 x**2 + 0.0 x**3\n",
      "10.0 + 0.0 x + 4.0 x**2 + 2.0 x**3\n"
     ]
    },
    {
     "data": {
      "text/latex": [
       "$x \\mapsto \\text{10.0}\\color{LightGray}{ + \\text{0.0}\\,x} + \\text{4.0}\\,x^{2} + \\text{2.0}\\,x^{3}$"
      ],
      "text/plain": [
       "Polynomial([10.,  0.,  4.,  2.], domain=[-1.,  1.], window=[-1.,  1.], symbol='x')"
      ]
     },
     "execution_count": 3,
     "metadata": {},
     "output_type": "execute_result"
    }
   ],
   "source": [
    "# ADDITION OF POLYNOMIALS\n",
    "fp = npp.Polynomial([9, 0, 4, 2])\n",
    "sp = npp.Polynomial([1, 0, 0, 0])\n",
    "\n",
    "print(fp)\n",
    "print(sp)\n",
    "print(fp + sp)\n",
    "\n",
    "poly_sum = fp + sp\n",
    "poly_sum"
   ]
  },
  {
   "cell_type": "code",
   "execution_count": 4,
   "metadata": {},
   "outputs": [
    {
     "data": {
      "text/plain": [
       "np.float64(42.0)"
      ]
     },
     "execution_count": 4,
     "metadata": {},
     "output_type": "execute_result"
    }
   ],
   "source": [
    "poly_sum(2)"
   ]
  }
 ],
 "metadata": {
  "kernelspec": {
   "display_name": "Python 3",
   "language": "python",
   "name": "python3"
  },
  "language_info": {
   "codemirror_mode": {
    "name": "ipython",
    "version": 3
   },
   "file_extension": ".py",
   "mimetype": "text/x-python",
   "name": "python",
   "nbconvert_exporter": "python",
   "pygments_lexer": "ipython3",
   "version": "3.13.2"
  }
 },
 "nbformat": 4,
 "nbformat_minor": 2
}
